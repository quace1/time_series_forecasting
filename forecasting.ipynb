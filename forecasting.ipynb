{
  "cells": [
    {
      "cell_type": "code",
      "execution_count": 1,
      "metadata": {
        "id": "FLV9BccC28VB"
      },
      "outputs": [],
      "source": [
        "import numpy as np\n",
        "import pandas as pd\n",
        "import matplotlib.pyplot as plt\n",
        "from math import isnan\n",
        "import os\n",
        "from sklearn.ensemble import GradientBoostingRegressor\n",
        "from sklearn.metrics import mean_squared_error"
      ]
    },
    {
      "cell_type": "markdown",
      "metadata": {
        "id": "AEJUZMG028VH"
      },
      "source": [
        "## Data preprocessing"
      ]
    },
    {
      "cell_type": "code",
      "source": [
        "from google.colab import drive\n",
        "drive.mount('/content/drive')"
      ],
      "metadata": {
        "colab": {
          "base_uri": "https://localhost:8080/"
        },
        "id": "ydTw97ef5ypo",
        "outputId": "cc264170-7306-463e-b604-73b365319d3b"
      },
      "execution_count": 2,
      "outputs": [
        {
          "output_type": "stream",
          "name": "stdout",
          "text": [
            "Drive already mounted at /content/drive; to attempt to forcibly remount, call drive.mount(\"/content/drive\", force_remount=True).\n"
          ]
        }
      ]
    },
    {
      "cell_type": "code",
      "execution_count": 3,
      "metadata": {
        "id": "0VRUk3_n28VJ"
      },
      "outputs": [],
      "source": [
        "X_revenue = []\n",
        "X_income = []\n",
        "train = {}\n",
        "for company in os.listdir('/content/drive/MyDrive/oil_gas_train'):\n",
        "    if company[:-5] != 'CRBO' and company[:-5] != '╨Ъ╨╜╨╕╨│╨░8':\n",
        "        df = pd.read_excel(f'/content/drive/MyDrive/oil_gas_train/{company}')\n",
        "        revenue = list(df.iloc[28])[9:]\n",
        "        income = list(df.iloc[42])[9:]\n",
        "        train[company[:-5]] = [revenue, income]\n",
        "        X_revenue.append(revenue)\n",
        "        X_income.append(income)"
      ]
    },
    {
      "cell_type": "code",
      "execution_count": 4,
      "metadata": {
        "id": "ckcmL7ga28VL"
      },
      "outputs": [],
      "source": [
        "test = {}\n",
        "for company in os.listdir('/content/drive/MyDrive/oil_gas_train_test'):\n",
        "    if company[:-5] != 'CRBO' and company[:-5] != '╨Ъ╨╜╨╕╨│╨░8':\n",
        "        df = pd.read_excel(f'/content/drive/MyDrive/oil_gas_train_test/{company}')\n",
        "        revenue = list(df.iloc[28])[-4:]\n",
        "        income = list(df.iloc[42])[-4:]\n",
        "        test[company[:-5]] = [revenue, income]"
      ]
    },
    {
      "cell_type": "code",
      "execution_count": 5,
      "metadata": {
        "id": "T4gCu8TE28VM"
      },
      "outputs": [],
      "source": [
        "X_revenue = pd.DataFrame(X_revenue).drop(0)\n",
        "X_income = pd.DataFrame(X_income).drop(0)"
      ]
    },
    {
      "cell_type": "markdown",
      "metadata": {
        "id": "zmwaPUbb28VN"
      },
      "source": [
        "## Baseline model"
      ]
    },
    {
      "cell_type": "markdown",
      "metadata": {
        "id": "EuHMoJsr28VN"
      },
      "source": [
        "We will forecast income and revenue for AMPY company, using Gradient Boosting as a baseline model. We will use all the companies' revenues as a train dataset, except last period, it will be a target. After we get a fitted model, we use it  on original AMPY data and get predict. Later we will use this predict to get another 3 predictions by dropping oldest period and adding latest prediction to the data. "
      ]
    },
    {
      "cell_type": "code",
      "execution_count": 6,
      "metadata": {
        "id": "OmMrjP-f28VO"
      },
      "outputs": [],
      "source": [
        "def baseline_prediction(X, target):\n",
        "    predictions = target\n",
        "    y = X[37]\n",
        "    X = X.drop(columns=[37])\n",
        "    model = GradientBoostingRegressor()\n",
        "    model.fit(X, y)\n",
        "    for i in range(4):\n",
        "        pred = model.predict(np.array(predictions[-37:]).reshape(1, -1))\n",
        "        predictions.append(pred[0])\n",
        "    return predictions"
      ]
    },
    {
      "cell_type": "code",
      "execution_count": 7,
      "metadata": {
        "id": "5r_4u2L828VP"
      },
      "outputs": [],
      "source": [
        "revenue_with_predictions = baseline_prediction(X_revenue, train['AMPY'][0])"
      ]
    },
    {
      "cell_type": "code",
      "execution_count": 8,
      "metadata": {
        "id": "-EPofrLI28VP"
      },
      "outputs": [],
      "source": [
        "income_with_predictions = baseline_prediction(X_income, train['AMPY'][1])"
      ]
    },
    {
      "cell_type": "code",
      "execution_count": 9,
      "metadata": {
        "colab": {
          "base_uri": "https://localhost:8080/",
          "height": 281
        },
        "id": "su8nmqUy28VQ",
        "outputId": "a394c2b8-5c12-4ac5-d3e9-eabad13ccea2"
      },
      "outputs": [
        {
          "output_type": "display_data",
          "data": {
            "text/plain": [
              "<Figure size 432x288 with 1 Axes>"
            ],
            "image/png": "[encoded data removed]"
          },
          "metadata": {
            "needs_background": "light"
          }
        }
      ],
      "source": [
        "fig, ax = plt.subplots()\n",
        "\n",
        "ax.plot(revenue_with_predictions, label = 'predicted', color='red')\n",
        "ax.plot(revenue_with_predictions[:-4] + test['AMPY'][0], label = 'fact', color='green')\n",
        "\n",
        "ax.legend()\n",
        "ax.grid()\n",
        "plt.title('Revenue')\n",
        "plt.show()"
      ]
    },
    {
      "cell_type": "code",
      "execution_count": 10,
      "metadata": {
        "colab": {
          "base_uri": "https://localhost:8080/",
          "height": 281
        },
        "id": "fgTZoktV28VR",
        "outputId": "e1bee0c7-fa54-40c5-ef4d-8e998bcffc9d"
      },
      "outputs": [
        {
          "output_type": "display_data",
          "data": {
            "text/plain": [
              "<Figure size 432x288 with 1 Axes>"
            ],
            "image/png": "[encoded data removed]"
          },
          "metadata": {
            "needs_background": "light"
          }
        }
      ],
      "source": [
        "fig, ax = plt.subplots()\n",
        "\n",
        "ax.plot(income_with_predictions, label = 'predicted', color='red')\n",
        "ax.plot(income_with_predictions[:-4] + test['AMPY'][1], label = 'fact', color='green')\n",
        "\n",
        "ax.legend()\n",
        "ax.grid()\n",
        "plt.title('Income')\n",
        "plt.show()"
      ]
    },
    {
      "cell_type": "code",
      "execution_count": 11,
      "metadata": {
        "colab": {
          "base_uri": "https://localhost:8080/"
        },
        "id": "2m75ec-c28VR",
        "outputId": "82208b3e-8920-4115-e69f-e74ef6cbc417"
      },
      "outputs": [
        {
          "output_type": "stream",
          "name": "stdout",
          "text": [
            "mean squared error revenue: 1719.4899213042606\n"
          ]
        }
      ],
      "source": [
        "x = test['AMPY']\n",
        "print(f'mean squared error revenue: {mean_squared_error(x[0], revenue_with_predictions[-4:])}')"
      ]
    },
    {
      "cell_type": "code",
      "execution_count": 12,
      "metadata": {
        "colab": {
          "base_uri": "https://localhost:8080/"
        },
        "id": "xT4mtbde28VR",
        "outputId": "d119241d-7287-4464-d264-530163ed0263"
      },
      "outputs": [
        {
          "output_type": "stream",
          "name": "stdout",
          "text": [
            "mean squared error income: 1171.0837974724386\n"
          ]
        }
      ],
      "source": [
        "print(f'mean squared error income: {mean_squared_error(x[1], income_with_predictions[-4:])}')"
      ]
    },
    {
      "cell_type": "markdown",
      "metadata": {
        "id": "C5RRNLEZ28VS"
      },
      "source": [
        "## AutoML"
      ]
    },
    {
      "cell_type": "markdown",
      "source": [
        "Here we are forecasting revenue and income using [FEDOT](https://github.com/aimclub/FEDOT) AutoML framework."
      ],
      "metadata": {
        "id": "kvg5sksRBBk7"
      }
    },
    {
      "cell_type": "code",
      "execution_count": 18,
      "metadata": {
        "id": "IaU50vFf28VT"
      },
      "outputs": [],
      "source": [
        "import logging\n",
        "\n",
        "from fedot.api.main import Fedot\n",
        "from fedot.core.data.data import InputData\n",
        "from fedot.core.data.data_split import train_test_data_setup\n",
        "from fedot.core.pipelines.node import PrimaryNode, SecondaryNode\n",
        "from fedot.core.pipelines.pipeline import Pipeline\n",
        "from fedot.core.repository.dataset_types import DataTypesEnum\n",
        "from fedot.core.repository.tasks import TsForecastingParams, Task, TaskTypesEnum\n",
        "from fedot.core.utils import fedot_project_root\n",
        "\n",
        "logging.raiseExceptions = False"
      ]
    },
    {
      "cell_type": "code",
      "execution_count": 29,
      "metadata": {
        "id": "JVykIuS928VU"
      },
      "outputs": [],
      "source": [
        "def run_ts_forecasting_example(dataset: list, horizon: int = 4, validation_blocks=2, timeout: float = None,\n",
        "                               visualization=False):\n",
        "    time_series = pd.DataFrame(data={'idx': list(range(len(dataset))), \n",
        "                                     'value': dataset})\n",
        "\n",
        "    task = Task(TaskTypesEnum.ts_forecasting,\n",
        "                TsForecastingParams(forecast_length=horizon))\n",
        "\n",
        "    idx = time_series['idx'].values\n",
        "    time_series = time_series['value'].values\n",
        "    train_input = InputData(idx=idx,\n",
        "                            features=time_series,\n",
        "                            target=time_series,\n",
        "                            task=task,\n",
        "                            data_type=DataTypesEnum.ts)\n",
        "    train_data, test_data = train_test_data_setup(train_input, \n",
        "                                          validation_blocks=validation_blocks)\n",
        "\n",
        "    # init model for the time series forecasting\n",
        "    model = Fedot(problem='ts_forecasting',\n",
        "                  task_params=task.task_params,\n",
        "                  timeout=timeout,\n",
        "                  n_jobs=1,\n",
        "                  cv_folds=2, validation_blocks=validation_blocks,\n",
        "                  preset='fast_train')\n",
        "\n",
        "    # run AutoML model design in the same way\n",
        "    pipeline = model.fit(train_data)\n",
        "\n",
        "    # use model to obtain two-step in-sample forecast\n",
        "    in_sample_forecast = model.predict(test_data)\n",
        "    print('Metrics for two-step in-sample forecast: ',\n",
        "          model.get_metrics(metric_names=['rmse', 'mae', 'mape']))\n",
        "\n",
        "    # plot forecasting result\n",
        "    if visualization:\n",
        "        pipeline.show()\n",
        "        model.plot_prediction()\n",
        "\n",
        "    # use model to obtain one-step forecast\n",
        "    train_data, test_data = train_test_data_setup(train_input)\n",
        "    simple_forecast = model.forecast(test_data)\n",
        "    print('Metrics for one-step forecast: ',\n",
        "          model.get_metrics(metric_names=['rmse', 'mae', 'mape']))\n",
        "    if visualization:\n",
        "        model.plot_prediction()\n",
        "\n",
        "    # use model to obtain two-step out-of-sample forecast\n",
        "    out_of_sample_forecast = model.forecast(test_data, horizon=20)\n",
        "    # we can not calculate metrics because we do not have enough future values\n",
        "    if visualization:\n",
        "        model.plot_prediction()\n",
        "\n",
        "    return in_sample_forecast, simple_forecast, out_of_sample_forecast"
      ]
    },
    {
      "cell_type": "code",
      "execution_count": null,
      "metadata": {
        "id": "cqexIL9J28VU"
      },
      "outputs": [],
      "source": [
        "_, revenue_forecast, _ = run_ts_forecasting_example(dataset=train['AMPY'][0], horizon=4, timeout=2., visualization=False)"
      ]
    },
    {
      "cell_type": "code",
      "source": [
        "fig, ax = plt.subplots()\n",
        "\n",
        "ax.plot(revenue_with_predictions[:-4] + list(revenue_forecast), label = 'predicted', color='red')\n",
        "ax.plot(revenue_with_predictions[:-4] + test['AMPY'][0], label = 'fact', color='green')\n",
        "\n",
        "ax.legend()\n",
        "ax.grid()\n",
        "plt.title('Revenue')\n",
        "plt.show()"
      ],
      "metadata": {
        "colab": {
          "base_uri": "https://localhost:8080/",
          "height": 281
        },
        "id": "6NvhHnu5JJfT",
        "outputId": "3e5d058b-ba3c-48ce-8bd6-f17b380442ae"
      },
      "execution_count": 38,
      "outputs": [
        {
          "output_type": "display_data",
          "data": {
            "text/plain": [
              "<Figure size 432x288 with 1 Axes>"
            ],
            "image/png": "[encoded data removed]"
          },
          "metadata": {
            "needs_background": "light"
          }
        }
      ]
    },
    {
      "cell_type": "code",
      "source": [
        "print(f'mean squared error revenue: {mean_squared_error(x[0], revenue_forecast)}')"
      ],
      "metadata": {
        "colab": {
          "base_uri": "https://localhost:8080/"
        },
        "id": "MGK8JtnDLE2Y",
        "outputId": "e718f8bc-5d05-4880-d7c6-6f75b30f9570"
      },
      "execution_count": 40,
      "outputs": [
        {
          "output_type": "stream",
          "name": "stdout",
          "text": [
            "mean squared error revenue: 140.56633591666667\n"
          ]
        }
      ]
    },
    {
      "cell_type": "code",
      "source": [
        "_, income_forecast, _ = run_ts_forecasting_example(dataset=train['AMPY'][1], horizon=4, timeout=2., visualization=False)"
      ],
      "metadata": {
        "id": "XYow2ktyJiY0"
      },
      "execution_count": null,
      "outputs": []
    },
    {
      "cell_type": "code",
      "source": [
        "fig, ax = plt.subplots()\n",
        "\n",
        "ax.plot(income_with_predictions[:-4] + list(income_forecast), label = 'predicted', color='red')\n",
        "ax.plot(income_with_predictions[:-4] + test['AMPY'][1], label = 'fact', color='green')\n",
        "\n",
        "ax.legend()\n",
        "ax.grid()\n",
        "plt.title('Income')\n",
        "plt.show()"
      ],
      "metadata": {
        "colab": {
          "base_uri": "https://localhost:8080/",
          "height": 281
        },
        "id": "6i_06cAzKumT",
        "outputId": "c351ae67-0a29-4b5b-d243-6c58cf4eb339"
      },
      "execution_count": 41,
      "outputs": [
        {
          "output_type": "display_data",
          "data": {
            "text/plain": [
              "<Figure size 432x288 with 1 Axes>"
            ],
            "image/png": "[encoded data removed]"
          },
          "metadata": {
            "needs_background": "light"
          }
        }
      ]
    },
    {
      "cell_type": "code",
      "source": [
        "print(f'mean squared error income: {mean_squared_error(x[1], income_forecast)}')"
      ],
      "metadata": {
        "colab": {
          "base_uri": "https://localhost:8080/"
        },
        "id": "OFa-s3neLQVg",
        "outputId": "44104f3f-9b8f-4d1a-dfaa-a850bead9c2c"
      },
      "execution_count": 44,
      "outputs": [
        {
          "output_type": "stream",
          "name": "stdout",
          "text": [
            "mean squared error income: 1004.2893248644883\n"
          ]
        }
      ]
    },
    {
      "cell_type": "markdown",
      "source": [
        "## Conclusions"
      ],
      "metadata": {
        "id": "QjY6SUphLdWy"
      }
    },
    {
      "cell_type": "markdown",
      "source": [
        "AutoML framework noticeably improved quality of forecasting, especially in revenue. It became possible thanks to using time series cross-validation and models, that are more adapted to time series forecasting than Fradient Boosting. Both models are better of predicting revenue than income, most likely bacause it is less volatile."
      ],
      "metadata": {
        "id": "0qemcvDcNpbK"
      }
    }
  ],
  "metadata": {
    "kernelspec": {
      "display_name": "Python 3",
      "language": "python",
      "name": "python3"
    },
    "language_info": {
      "codemirror_mode": {
        "name": "ipython",
        "version": 3
      },
      "file_extension": ".py",
      "mimetype": "text/x-python",
      "name": "python",
      "nbconvert_exporter": "python",
      "pygments_lexer": "ipython3",
      "version": "3.8.5"
    },
    "colab": {
      "provenance": []
    }
  },
  "nbformat": 4,
  "nbformat_minor": 0
}