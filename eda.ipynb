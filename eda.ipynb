{
 "cells": [
  {
   "cell_type": "markdown",
   "metadata": {},
   "source": [
    "## Чтение данных"
   ]
  },
  {
   "cell_type": "markdown",
   "metadata": {},
   "source": [
    "Будем итерироваться по всем доступным экселкам и считывать всю значащую информацию по компании в отдельный датафрейм. Потом сделаем словарик со всеми отчетностями, где ключ - название компании, значение - датафрейм с ее отчетностью."
   ]
  },
  {
   "cell_type": "code",
   "execution_count": 68,
   "metadata": {},
   "outputs": [],
   "source": [
    "import numpy as np\n",
    "import pandas as pd\n",
    "import matplotlib.pyplot as plt\n",
    "from math import isnan\n",
    "import os"
   ]
  },
  {
   "cell_type": "code",
   "execution_count": 77,
   "metadata": {},
   "outputs": [],
   "source": [
    "def unpack_financial_statement(df):\n",
    "    timeline = list(df.iloc[26])[9:]\n",
    "    timeline.insert(0, 'Category')\n",
    "    data = []\n",
    "    for i in range(28, len(df)):\n",
    "        row = list(df.iloc[i])\n",
    "        if not type(row[8]) is float:\n",
    "            data.append(row[8:])\n",
    "    return pd.DataFrame(data=data, columns=timeline)      "
   ]
  },
  {
   "cell_type": "code",
   "execution_count": 92,
   "metadata": {},
   "outputs": [],
   "source": [
    "fin_statements = {}\n",
    "for company in os.listdir('oil_gas_train'):\n",
    "    df = pd.read_excel(f'oil_gas_train/{company}')\n",
    "    x = unpack_financial_statement(df)\n",
    "    fin_statements[company[:-5]] = x"
   ]
  },
  {
   "cell_type": "markdown",
   "metadata": {},
   "source": [
    "## EDA"
   ]
  },
  {
   "cell_type": "markdown",
   "metadata": {},
   "source": [
    "EDA будем проводить на примере одной из компании - AMPY. "
   ]
  },
  {
   "cell_type": "code",
   "execution_count": 96,
   "metadata": {},
   "outputs": [
    {
     "data": {
      "text/html": [
       "<div>\n",
       "<style scoped>\n",
       "    .dataframe tbody tr th:only-of-type {\n",
       "        vertical-align: middle;\n",
       "    }\n",
       "\n",
       "    .dataframe tbody tr th {\n",
       "        vertical-align: top;\n",
       "    }\n",
       "\n",
       "    .dataframe thead th {\n",
       "        text-align: right;\n",
       "    }\n",
       "</style>\n",
       "<table border=\"1\" class=\"dataframe\">\n",
       "  <thead>\n",
       "    <tr style=\"text-align: right;\">\n",
       "      <th></th>\n",
       "      <th>Category</th>\n",
       "      <th>Q1 '11 A</th>\n",
       "      <th>Q2 '11 A</th>\n",
       "      <th>Q3 '11 A</th>\n",
       "      <th>Q4 '11 A</th>\n",
       "      <th>Q1 '12 A</th>\n",
       "      <th>Q2 '12 A</th>\n",
       "      <th>Q3 '12 A</th>\n",
       "      <th>Q4 '12 A</th>\n",
       "      <th>Q1 '13 A</th>\n",
       "      <th>...</th>\n",
       "      <th>Q1 '18 A</th>\n",
       "      <th>Q2 '18 A</th>\n",
       "      <th>Q3 '18 A</th>\n",
       "      <th>Q4 '18 A</th>\n",
       "      <th>Q1 '19 A</th>\n",
       "      <th>Q2 '19 A</th>\n",
       "      <th>Q3 '19 A</th>\n",
       "      <th>Q4 '19 A</th>\n",
       "      <th>Q1 '20 A</th>\n",
       "      <th>Q2 '20 A</th>\n",
       "    </tr>\n",
       "  </thead>\n",
       "  <tbody>\n",
       "    <tr>\n",
       "      <th>0</th>\n",
       "      <td>Revenue</td>\n",
       "      <td>0</td>\n",
       "      <td>0</td>\n",
       "      <td>0</td>\n",
       "      <td>61.863</td>\n",
       "      <td>48.41</td>\n",
       "      <td>49.259</td>\n",
       "      <td>55.498</td>\n",
       "      <td>89.839</td>\n",
       "      <td>86.142</td>\n",
       "      <td>...</td>\n",
       "      <td>52.844</td>\n",
       "      <td>53.672</td>\n",
       "      <td>85.522</td>\n",
       "      <td>75.702</td>\n",
       "      <td>65.155</td>\n",
       "      <td>59.532</td>\n",
       "      <td>72.959</td>\n",
       "      <td>77.929</td>\n",
       "      <td>58.136</td>\n",
       "      <td>35.171</td>\n",
       "    </tr>\n",
       "    <tr>\n",
       "      <th>1</th>\n",
       "      <td>Consensus:</td>\n",
       "      <td>0</td>\n",
       "      <td>0</td>\n",
       "      <td>0</td>\n",
       "      <td>0</td>\n",
       "      <td>0</td>\n",
       "      <td>0</td>\n",
       "      <td>0</td>\n",
       "      <td>0</td>\n",
       "      <td>0</td>\n",
       "      <td>...</td>\n",
       "      <td>0</td>\n",
       "      <td>0</td>\n",
       "      <td>0</td>\n",
       "      <td>0</td>\n",
       "      <td>0</td>\n",
       "      <td>0</td>\n",
       "      <td>0</td>\n",
       "      <td>79.8</td>\n",
       "      <td>63.3</td>\n",
       "      <td>46.7</td>\n",
       "    </tr>\n",
       "    <tr>\n",
       "      <th>2</th>\n",
       "      <td>% Surprise | % Est. vs Consensus</td>\n",
       "      <td>0</td>\n",
       "      <td>0</td>\n",
       "      <td>0</td>\n",
       "      <td>0</td>\n",
       "      <td>0</td>\n",
       "      <td>0</td>\n",
       "      <td>0</td>\n",
       "      <td>0</td>\n",
       "      <td>0</td>\n",
       "      <td>...</td>\n",
       "      <td>0</td>\n",
       "      <td>0</td>\n",
       "      <td>0</td>\n",
       "      <td>0</td>\n",
       "      <td>0</td>\n",
       "      <td>0</td>\n",
       "      <td>0</td>\n",
       "      <td>-0.0234461</td>\n",
       "      <td>-0.0815798</td>\n",
       "      <td>-0.246874</td>\n",
       "    </tr>\n",
       "    <tr>\n",
       "      <th>3</th>\n",
       "      <td>Revenue Growth (YoY)</td>\n",
       "      <td>NaN</td>\n",
       "      <td>NaN</td>\n",
       "      <td>NaN</td>\n",
       "      <td>NaN</td>\n",
       "      <td>NaN</td>\n",
       "      <td>NaN</td>\n",
       "      <td>NaN</td>\n",
       "      <td>0.452225</td>\n",
       "      <td>0.779426</td>\n",
       "      <td>...</td>\n",
       "      <td>-0.121463</td>\n",
       "      <td>0.00913774</td>\n",
       "      <td>0.521338</td>\n",
       "      <td>0.419129</td>\n",
       "      <td>0.232969</td>\n",
       "      <td>0.109182</td>\n",
       "      <td>-0.146898</td>\n",
       "      <td>0.029418</td>\n",
       "      <td>-0.107728</td>\n",
       "      <td>-0.409208</td>\n",
       "    </tr>\n",
       "    <tr>\n",
       "      <th>4</th>\n",
       "      <td>Cost of Revenue</td>\n",
       "      <td>0</td>\n",
       "      <td>0</td>\n",
       "      <td>0</td>\n",
       "      <td>-36.854</td>\n",
       "      <td>-34.628</td>\n",
       "      <td>-33.967</td>\n",
       "      <td>-37.426</td>\n",
       "      <td>-50.763</td>\n",
       "      <td>-56.101</td>\n",
       "      <td>...</td>\n",
       "      <td>-30.318</td>\n",
       "      <td>-33.686</td>\n",
       "      <td>-40.86</td>\n",
       "      <td>-43.524</td>\n",
       "      <td>-41.387</td>\n",
       "      <td>-40.537</td>\n",
       "      <td>-48.594</td>\n",
       "      <td>-53.374</td>\n",
       "      <td>-52.792</td>\n",
       "      <td>-36.99</td>\n",
       "    </tr>\n",
       "  </tbody>\n",
       "</table>\n",
       "<p>5 rows × 39 columns</p>\n",
       "</div>"
      ],
      "text/plain": [
       "                           Category Q1 '11 A Q2 '11 A Q3 '11 A Q4 '11 A  \\\n",
       "0                           Revenue        0        0        0   61.863   \n",
       "1                        Consensus:        0        0        0        0   \n",
       "2  % Surprise | % Est. vs Consensus        0        0        0        0   \n",
       "3              Revenue Growth (YoY)      NaN      NaN      NaN      NaN   \n",
       "4                   Cost of Revenue        0        0        0  -36.854   \n",
       "\n",
       "  Q1 '12 A Q2 '12 A Q3 '12 A  Q4 '12 A  Q1 '13 A  ...  Q1 '18 A    Q2 '18 A  \\\n",
       "0    48.41   49.259   55.498    89.839    86.142  ...    52.844      53.672   \n",
       "1        0        0        0         0         0  ...         0           0   \n",
       "2        0        0        0         0         0  ...         0           0   \n",
       "3      NaN      NaN      NaN  0.452225  0.779426  ... -0.121463  0.00913774   \n",
       "4  -34.628  -33.967  -37.426   -50.763   -56.101  ...   -30.318     -33.686   \n",
       "\n",
       "   Q3 '18 A  Q4 '18 A  Q1 '19 A  Q2 '19 A  Q3 '19 A   Q4 '19 A   Q1 '20 A  \\\n",
       "0    85.522    75.702    65.155    59.532    72.959     77.929     58.136   \n",
       "1         0         0         0         0         0       79.8       63.3   \n",
       "2         0         0         0         0         0 -0.0234461 -0.0815798   \n",
       "3  0.521338  0.419129  0.232969  0.109182 -0.146898   0.029418  -0.107728   \n",
       "4    -40.86   -43.524   -41.387   -40.537   -48.594    -53.374    -52.792   \n",
       "\n",
       "   Q2 '20 A  \n",
       "0    35.171  \n",
       "1      46.7  \n",
       "2 -0.246874  \n",
       "3 -0.409208  \n",
       "4    -36.99  \n",
       "\n",
       "[5 rows x 39 columns]"
      ]
     },
     "execution_count": 96,
     "metadata": {},
     "output_type": "execute_result"
    }
   ],
   "source": [
    "df = fin_statements['AMPY']\n",
    "df.head()"
   ]
  },
  {
   "cell_type": "markdown",
   "metadata": {},
   "source": [
    "Заметим, что за первые 3 квартала 11-го года данных нет, поэтому удалим соответствующие столбцы:"
   ]
  },
  {
   "cell_type": "code",
   "execution_count": 103,
   "metadata": {},
   "outputs": [],
   "source": [
    "df = df.drop(columns=['Q1 \\'11 A', 'Q2 \\'11 A', 'Q3 \\'11 A'])"
   ]
  },
  {
   "cell_type": "code",
   "execution_count": 111,
   "metadata": {},
   "outputs": [
    {
     "data": {
      "text/plain": [
       "(336, 36)"
      ]
     },
     "execution_count": 111,
     "metadata": {},
     "output_type": "execute_result"
    }
   ],
   "source": [
    "df.shape # у нас есть данные за 36 кварталов, всего 336 показателей"
   ]
  },
  {
   "cell_type": "markdown",
   "metadata": {},
   "source": [
    "Посчитаем описательные статистики для основных показателей:"
   ]
  },
  {
   "cell_type": "code",
   "execution_count": 119,
   "metadata": {},
   "outputs": [
    {
     "name": "stdout",
     "output_type": "stream",
     "text": [
      "Показатель: Revenue\n",
      "Минимум: 35.171\n",
      "Максимум: 166.518\n",
      "Среднее: 86.59597120000002\n",
      "Стандартное отклонение: 39.77068508998741\n",
      "Размах: 131.347\n",
      "========================================\n",
      "Показатель: Gross Profit\n",
      "Минимум: -1.8190000000000015\n",
      "Максимум: 76.038\n",
      "Среднее: 34.197885485714295\n",
      "Стандартное отклонение: 19.444568719696672\n",
      "Размах: 77.857\n",
      "========================================\n",
      "Показатель: Total Assets\n",
      "Минимум: 453.683008\n",
      "Максимум: 2704.470016\n",
      "Среднее: 1200.9308800000001\n",
      "Стандартное отклонение: 728.7789166786999\n",
      "Размах: 2250.7870080000002\n",
      "========================================\n"
     ]
    }
   ],
   "source": [
    "categories = ['Revenue', 'Gross Profit', 'Total Assets']\n",
    "for category in categories:\n",
    "    series = np.array(df[df.Category == category].iloc[0])[1:]\n",
    "    print(f'Показатель: {category}')\n",
    "    print(f'Минимум: {min(series)}')\n",
    "    print(f'Максимум: {max(series)}')\n",
    "    print(f'Среднее: {np.mean(series)}')\n",
    "    print(f'Стандартное отклонение: {np.std(series)}')\n",
    "    print(f'Размах: {max(series) - min(series)}')\n",
    "    print('========================================')"
   ]
  },
  {
   "cell_type": "code",
   "execution_count": 123,
   "metadata": {},
   "outputs": [],
   "source": [
    "import matplotlib.ticker as ticker"
   ]
  },
  {
   "cell_type": "code",
   "execution_count": 128,
   "metadata": {},
   "outputs": [
    {
     "data": {
      "image/png": "[encoded data removed]",
      "text/plain": [
       "<Figure size 432x288 with 1 Axes>"
      ]
     },
     "metadata": {
      "needs_background": "light"
     },
     "output_type": "display_data"
    }
   ],
   "source": [
    "fig, ax = plt.subplots()\n",
    "ax.plot(list(df.columns)[1:], list(df[df.Category == 'Revenue'].iloc[0])[1:], color='blue')\n",
    "\n",
    "ax.grid()\n",
    "ax.xaxis.set_major_locator(ticker.MultipleLocator(6))\n",
    "plt.xlabel('Period')\n",
    "plt.ylabel('Revenue')\n",
    "\n",
    "plt.show()"
   ]
  },
  {
   "cell_type": "markdown",
   "metadata": {},
   "source": [
    "В 12-14 годах был пик выручки, после чего она вернулась к значениям 11 года"
   ]
  },
  {
   "cell_type": "code",
   "execution_count": 129,
   "metadata": {},
   "outputs": [
    {
     "data": {
      "image/png": "[encoded data removed]",
      "text/plain": [
       "<Figure size 432x288 with 1 Axes>"
      ]
     },
     "metadata": {
      "needs_background": "light"
     },
     "output_type": "display_data"
    }
   ],
   "source": [
    "fig, ax = plt.subplots()\n",
    "ax.plot(list(df.columns)[1:], list(df[df.Category == 'Gross Profit'].iloc[0])[1:], color='blue')\n",
    "\n",
    "ax.grid()\n",
    "ax.xaxis.set_major_locator(ticker.MultipleLocator(6))\n",
    "plt.xlabel('Period')\n",
    "plt.ylabel('Gross Profit')\n",
    "\n",
    "plt.show()"
   ]
  },
  {
   "cell_type": "markdown",
   "metadata": {},
   "source": [
    "Приыбль, ожидаемо, похожа на выручку, в 20 году компания апервые стала убыточной."
   ]
  },
  {
   "cell_type": "code",
   "execution_count": 130,
   "metadata": {},
   "outputs": [
    {
     "data": {
      "image/png": "[encoded data removed]",
      "text/plain": [
       "<Figure size 432x288 with 1 Axes>"
      ]
     },
     "metadata": {
      "needs_background": "light"
     },
     "output_type": "display_data"
    }
   ],
   "source": [
    "fig, ax = plt.subplots()\n",
    "ax.plot(list(df.columns)[1:], list(df[df.Category == 'Total Assets'].iloc[0])[1:], color='blue')\n",
    "\n",
    "ax.grid()\n",
    "ax.xaxis.set_major_locator(ticker.MultipleLocator(6))\n",
    "plt.xlabel('Period')\n",
    "plt.ylabel('Total Assets')\n",
    "\n",
    "plt.show()"
   ]
  },
  {
   "cell_type": "markdown",
   "metadata": {},
   "source": [
    "в 13-14 году активы компании были в 5 раз больше, чем во все остальное время до и после"
   ]
  },
  {
   "cell_type": "markdown",
   "metadata": {},
   "source": [
    "## Метрика"
   ]
  },
  {
   "cell_type": "markdown",
   "metadata": {},
   "source": [
    "В качестве метрики для прогнозирования выручки и прибыли по отдельности можно брать mse, которое мы считаем как усредненное mse по всем периодам прогноза данного показателя. В качестве характеристики того, насколько хорошо мы предсказали выручку и прибыль в совокупности, можно взять среднее гармоническое из mse_revenue и mse_profit."
   ]
  }
 ],
 "metadata": {
  "kernelspec": {
   "display_name": "Python 3",
   "language": "python",
   "name": "python3"
  },
  "language_info": {
   "codemirror_mode": {
    "name": "ipython",
    "version": 3
   },
   "file_extension": ".py",
   "mimetype": "text/x-python",
   "name": "python",
   "nbconvert_exporter": "python",
   "pygments_lexer": "ipython3",
   "version": "3.8.5"
  }
 },
 "nbformat": 4,
 "nbformat_minor": 4
}
